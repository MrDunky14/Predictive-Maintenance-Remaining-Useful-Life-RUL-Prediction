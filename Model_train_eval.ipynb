{
 "cells": [
  {
   "cell_type": "markdown",
   "id": "28effde4",
   "metadata": {},
   "source": [
    "# Predictive Maintenance: Remaining Useful Life (RUL) Prediction Model\n",
    "\n",
    "This notebook focuses on defining, training, and evaluating a Long Short-Term Memory (LSTM) neural network model for predicting the Remaining Useful Life (RUL) of turbofan engines. Building upon the data preprocessing and feature engineering steps performed in the `EDA.ipynb` notebook, this part of the project brings together the cleaned and prepared data to build a predictive solution.\n",
    "\n",
    "## Table of Contents\n",
    "\n",
    "1.  [Model Definition](#1.-Model-Definition)\n",
    "    * [1.1 Importing Libraries and Loading Preprocessed Data](#1.1-Importing-Libraries-and-Loading-Preprocessed-Data)\n",
    "    * [1.2 LSTM Model Architecture](#1.2-LSTM-Model-Architecture)\n",
    "    * [1.3 Model Compilation](#1.3-Model-Compilation)\n",
    "2.  [Model Training](#2.-Model-Training)\n",
    "    * [2.1 Callbacks for Training Optimization](#2.1-Callbacks-for-Training-Optimization)\n",
    "    * [2.2 Training the LSTM Model](#2.2-Training-the-LSTM-Model)\n",
    "3.  [Model Evaluation](#3.-Model-Evaluation)\n",
    "    * [3.1 Loading the Best Model and Summary](#3.1-Loading-the-Best-Model-and-Summary)\n",
    "    * [3.2 Making Predictions on Test Data](#3.2-Making-Predictions-on-Test-Data)\n",
    "    * [3.3 Loading True RUL Values](#3.3-Loading-True-RUL-Values)\n",
    "    * [3.4 Quantitative Evaluation of Predictions](#3.4-Quantitative-Evaluation-of-Predictions)\n",
    "    * [3.5 Visualizing Model Performance](#3.5-Visualizing-Model-Performance)\n",
    "4.  [Conclusion](#4.-Conclusion)"
   ]
  },
  {
   "cell_type": "markdown",
   "id": "65a473b7",
   "metadata": {},
   "source": [
    "## 1. Model Definition\n",
    "\n",
    "This section covers the setup of our deep learning environment, loading the preprocessed data, and defining the architecture of the Long Short-Term Memory (LSTM) model.\n",
    "\n",
    "### 1.1 Importing Libraries and Loading Preprocessed Data\n",
    "\n",
    "We begin by importing all necessary libraries for building and training the LSTM model, including `tensorflow` and specific layers from `keras`. Crucially, we also load the `X_train`, `y_train`, and `X_test` NumPy arrays generated during the data preprocessing phase, along with the `rul_scaler` and `feature_scaler` to handle data transformations consistently."
   ]
  },
  {
   "cell_type": "code",
   "execution_count": null,
   "id": "89060559",
   "metadata": {},
   "outputs": [],
   "source": [
    "# Importing necessary modules for LSTM model\n",
    "import tensorflow as tf \n",
    "from tensorflow.keras.models import Sequential\n",
    "from tensorflow.keras import layers\n",
    "from tensorflow.keras.layers import LSTM, Dense, Dropout\n",
    "from tensorflow.keras.optimizers import Adam\n",
    "from tensorflow.keras.callbacks import EarlyStopping, ModelCheckpoint\n",
    "from custom_functions import *"
   ]
  },
  {
   "cell_type": "code",
   "execution_count": 2,
   "id": "5b2187b1",
   "metadata": {},
   "outputs": [],
   "source": [
    "import numpy as np\n",
    "# Loading Datasets and scalers\n",
    "import joblib\n",
    "X_train = np.load('X_train.npy')\n",
    "y_train = np.load('y_train.npy')\n",
    "X_test = np.load('X_test.npy')\n",
    "\n",
    "rul_scaler = joblib.load('rul_scaler.pkl')\n",
    "scaler = joblib.load('feature_scaler.pkl')"
   ]
  },
  {
   "cell_type": "markdown",
   "id": "95e35582",
   "metadata": {},
   "source": [
    "### 1.2 LSTM Model Architecture\n",
    "\n",
    "We define a Sequential Keras model, which is a linear stack of layers. The architecture is chosen to effectively capture temporal dependencies in the sensor data for RUL prediction.\n",
    "\n",
    "**Model Layers:**\n",
    "* **`LSTM(units=100, return_sequences=True, input_shape=(X_train.shape[1], X_train.shape[2]))`**:\n",
    "    * First LSTM layer with 100 units. `return_sequences=True` ensures that the output for each timestep is passed to the next LSTM layer, which is crucial when stacking LSTM layers.\n",
    "    * `input_shape` is set dynamically based on the preprocessed training data: `(sequence_length, num_features)`.\n",
    "* **`Dropout(0.2)`**: A dropout layer with a rate of 0.2 (20%) is added after the first LSTM layer to prevent overfitting by randomly setting a fraction of input units to 0 at each update during training.\n",
    "* **`LSTM(units=50)`**: Second LSTM layer with 50 units. `return_sequences` is `False` by default, meaning it will output only the last timestep's output, which is then fed into the final Dense layer.\n",
    "* **`Dropout(0.2)`**: Another dropout layer to further regularize the model.\n",
    "* **`Dense(1)`**: A final Dense (fully connected) layer with a single unit and a linear activation function. This layer is responsible for outputting the single RUL prediction value."
   ]
  },
  {
   "cell_type": "code",
   "execution_count": 3,
   "id": "b1a24125",
   "metadata": {},
   "outputs": [
    {
     "name": "stderr",
     "output_type": "stream",
     "text": [
      "I0000 00:00:1752159321.195982   21746 gpu_device.cc:2019] Created device /job:localhost/replica:0/task:0/device:GPU:0 with 2246 MB memory:  -> device: 0, name: NVIDIA GeForce GTX 1650, pci bus id: 0000:01:00.0, compute capability: 7.5\n",
      "/home/play_box/.venvs/rapids_python3.12/lib/python3.12/site-packages/keras/src/layers/rnn/rnn.py:199: UserWarning: Do not pass an `input_shape`/`input_dim` argument to a layer. When using Sequential models, prefer using an `Input(shape)` object as the first layer in the model instead.\n",
      "  super().__init__(**kwargs)\n"
     ]
    }
   ],
   "source": [
    "# Defining Our LSTM Model\n",
    "model = Sequential()\n",
    "model.add(LSTM(units=100, return_sequences=True, input_shape=(X_train.shape[1], X_train.shape[2])))\n",
    "model.add(Dropout(0.2))\n",
    "model.add(LSTM(units=50))\n",
    "model.add(Dropout(0.2))\n",
    "model.add(Dense(1))"
   ]
  },
  {
   "cell_type": "markdown",
   "id": "81c92176",
   "metadata": {},
   "source": [
    "### 1.3 Model Compilation\n",
    "\n",
    "After defining the model architecture, we compile the model. Compilation configures the model for training with specified optimizer, loss function, and metrics.\n",
    "\n",
    "* **Optimizer: `Adam(learning_rate=0.02)`**: The Adam optimizer is chosen for its efficiency and good performance in many deep learning tasks. A learning rate of 0.02 is set, which can be adjusted during hyperparameter tuning.\n",
    "* **Loss Function: `mse` (Mean Squared Error)**: MSE is a common loss function for regression tasks. It measures the average of the squares of the errors, encouraging the model to make predictions close to the true values.\n",
    "* **Metrics: `mae` (Mean Absolute Error)**: MAE is used as an evaluation metric. It measures the average magnitude of the errors without considering their direction. It is less sensitive to outliers than MSE and provides a more intuitive understanding of the average prediction error in the original RUL units.\n",
    "\n",
    "This compilation step prepares the model to learn from our training data."
   ]
  },
  {
   "cell_type": "code",
   "execution_count": 4,
   "id": "f23f1e8a",
   "metadata": {},
   "outputs": [],
   "source": [
    "# Compiling Our Model\n",
    "model.compile(\n",
    "    optimizer=Adam(learning_rate=0.02),\n",
    "    loss='mse',\n",
    "    metrics=['mae']\n",
    ")"
   ]
  },
  {
   "cell_type": "markdown",
   "id": "90614af1",
   "metadata": {},
   "source": [
    "## 2. Model Training\n",
    "\n",
    "This section focuses on configuring and executing the training process for our LSTM model. Effective training involves using callbacks to monitor performance and save the best model.\n",
    "\n",
    "### 2.1 Callbacks for Training Optimization\n",
    "\n",
    "To ensure efficient and robust model training, we employ two crucial Keras callbacks:\n",
    "\n",
    "* **`EarlyStopping`**:\n",
    "    * `monitor='val_loss'`: Stops training when the validation loss no longer improves.\n",
    "    * `patience=10`: Allows training to continue for 10 additional epochs after the validation loss stops improving before stopping. This prevents premature stopping if the loss temporarily plateaus.\n",
    "    * `min_delta=0.0001`: Minimum change in the monitored quantity to qualify as an improvement.\n",
    "    * `restore_best_weights=True`: Restores model weights from the epoch with the best value of the monitored quantity (validation loss). This ensures we use the best performing model, not necessarily the last one.\n",
    "* **`ModelCheckpoint`**:\n",
    "    * `filepath='best_model.keras'`: Saves the model to this file path.\n",
    "    * `monitor='val_loss'`: Monitors validation loss to determine when to save.\n",
    "    * `save_best_only=True`: Only saves the model weights when the monitored quantity (validation loss) improves.\n",
    "    * `mode='min'`: Specifies that the monitored quantity should be minimized.\n",
    "\n",
    "These callbacks help to prevent overfitting and ensure that the best performing model during training is saved."
   ]
  },
  {
   "cell_type": "code",
   "execution_count": null,
   "id": "ab335af5",
   "metadata": {},
   "outputs": [],
   "source": [
    "# Define the EarlyStopping callback\n",
    "early_stopping = EarlyStopping(\n",
    "    monitor='val_loss',\n",
    "    patience=10,\n",
    "    min_delta=0.0001,\n",
    "    verbose=0,\n",
    "    restore_best_weights=True\n",
    ")\n",
    "\n",
    "# Define the ModelCheckpoint callback\n",
    "model_checkpoint = ModelCheckpoint(\n",
    "    filepath='best_model.keras',\n",
    "    monitor='val_loss',\n",
    "    save_best_only=True,\n",
    "    mode='min',\n",
    "    verbose=0\n",
    ")\n",
    "\n",
    "# List of callbacks to use during training\n",
    "callbacks_list = [early_stopping, model_checkpoint]\n",
    "\n",
    "# Fitting Our Model\n",
    "history = model.fit(\n",
    "    X_train,\n",
    "    y_train,\n",
    "    epochs=200,\n",
    "    batch_size=128,\n",
    "    validation_split=0.2,\n",
    "    callbacks=callbacks_list,\n",
    "    verbose=1 # Display training progress\n",
    ")\n",
    "\n",
    "print('The Model Training is now finished !')"
   ]
  },
  {
   "cell_type": "code",
   "execution_count": null,
   "id": "a7df90cc",
   "metadata": {},
   "outputs": [],
   "source": [
    "# Plotting the Summary and Visual representation of the model training\n",
    "plot_training_history(history)"
   ]
  },
  {
   "cell_type": "markdown",
   "id": "18a4e5ba",
   "metadata": {},
   "source": [
    "## 3. Model Evaluation\n",
    "\n",
    "After training, the model's performance needs to be rigorously evaluated on the unseen test data. This section covers loading the best-trained model, making predictions, and assessing the model's accuracy using relevant metrics and visualizations.\n",
    "\n",
    "### 3.1 Loading the Best Model and Summary\n",
    "\n",
    "We load the `best_model.keras` file, which was saved by the `ModelCheckpoint` callback during training. This ensures we are using the model weights that yielded the lowest validation loss, representing the most optimal performance during the training phase.\n",
    "\n",
    "The `model.summary()` output provides a detailed overview of the loaded model's architecture, including:\n",
    "* **Layer types**: LSTM, Dropout, Dense.\n",
    "* **Output shapes**: Shows the shape of the tensor output from each layer, confirming the flow of data through the network. Notice how the first LSTM outputs sequences (`None, 30, 100`) and the second LSTM flattens to a single output per sample (`None, 50`) before the final Dense layer.\n",
    "* **Parameter counts (`Param #`)**: The number of trainable parameters in each layer. This indicates the complexity of the model.\n",
    "* **Total parameters**: The overall number of parameters in the model.\n",
    "* **Trainable parameters**: Parameters that are updated during training.\n",
    "* **Non-trainable parameters**: Parameters that are fixed (e.g., in transfer learning, though not applicable here).\n",
    "* **Optimizer parameters**: Parameters specific to the optimizer, which are also part of the overall model state.\n",
    "\n",
    "This summary confirms that the model was loaded correctly with its learned weights and structure."
   ]
  },
  {
   "cell_type": "code",
   "execution_count": null,
   "id": "8ee3e3bd",
   "metadata": {},
   "outputs": [
    {
     "name": "stdout",
     "output_type": "stream",
     "text": [
      "Successfully loaded the best model from 'best_model.keras'.\n"
     ]
    },
    {
     "data": {
      "text/html": [
       "<pre style=\"white-space:pre;overflow-x:auto;line-height:normal;font-family:Menlo,'DejaVu Sans Mono',consolas,'Courier New',monospace\"><span style=\"font-weight: bold\">Model: \"sequential_1\"</span>\n",
       "</pre>\n"
      ],
      "text/plain": [
       "\u001b[1mModel: \"sequential_1\"\u001b[0m\n"
      ]
     },
     "metadata": {},
     "output_type": "display_data"
    },
    {
     "data": {
      "text/html": [
       "<pre style=\"white-space:pre;overflow-x:auto;line-height:normal;font-family:Menlo,'DejaVu Sans Mono',consolas,'Courier New',monospace\">┏━━━━━━━━━━━━━━━━━━━━━━━━━━━━━━━━━┳━━━━━━━━━━━━━━━━━━━━━━━━┳━━━━━━━━━━━━━━━┓\n",
       "┃<span style=\"font-weight: bold\"> Layer (type)                    </span>┃<span style=\"font-weight: bold\"> Output Shape           </span>┃<span style=\"font-weight: bold\">       Param # </span>┃\n",
       "┡━━━━━━━━━━━━━━━━━━━━━━━━━━━━━━━━━╇━━━━━━━━━━━━━━━━━━━━━━━━╇━━━━━━━━━━━━━━━┩\n",
       "│ gru_4 (<span style=\"color: #0087ff; text-decoration-color: #0087ff\">GRU</span>)                     │ (<span style=\"color: #00d7ff; text-decoration-color: #00d7ff\">None</span>, <span style=\"color: #00af00; text-decoration-color: #00af00\">30</span>, <span style=\"color: #00af00; text-decoration-color: #00af00\">416</span>)        │       <span style=\"color: #00af00; text-decoration-color: #00af00\">597,792</span> │\n",
       "├─────────────────────────────────┼────────────────────────┼───────────────┤\n",
       "│ dropout_4 (<span style=\"color: #0087ff; text-decoration-color: #0087ff\">Dropout</span>)             │ (<span style=\"color: #00d7ff; text-decoration-color: #00d7ff\">None</span>, <span style=\"color: #00af00; text-decoration-color: #00af00\">30</span>, <span style=\"color: #00af00; text-decoration-color: #00af00\">416</span>)        │             <span style=\"color: #00af00; text-decoration-color: #00af00\">0</span> │\n",
       "├─────────────────────────────────┼────────────────────────┼───────────────┤\n",
       "│ bidirectional_2 (<span style=\"color: #0087ff; text-decoration-color: #0087ff\">Bidirectional</span>) │ (<span style=\"color: #00d7ff; text-decoration-color: #00d7ff\">None</span>, <span style=\"color: #00af00; text-decoration-color: #00af00\">30</span>, <span style=\"color: #00af00; text-decoration-color: #00af00\">128</span>)        │       <span style=\"color: #00af00; text-decoration-color: #00af00\">185,088</span> │\n",
       "├─────────────────────────────────┼────────────────────────┼───────────────┤\n",
       "│ dropout_5 (<span style=\"color: #0087ff; text-decoration-color: #0087ff\">Dropout</span>)             │ (<span style=\"color: #00d7ff; text-decoration-color: #00d7ff\">None</span>, <span style=\"color: #00af00; text-decoration-color: #00af00\">30</span>, <span style=\"color: #00af00; text-decoration-color: #00af00\">128</span>)        │             <span style=\"color: #00af00; text-decoration-color: #00af00\">0</span> │\n",
       "├─────────────────────────────────┼────────────────────────┼───────────────┤\n",
       "│ bidirectional_3 (<span style=\"color: #0087ff; text-decoration-color: #0087ff\">Bidirectional</span>) │ (<span style=\"color: #00d7ff; text-decoration-color: #00d7ff\">None</span>, <span style=\"color: #00af00; text-decoration-color: #00af00\">30</span>, <span style=\"color: #00af00; text-decoration-color: #00af00\">256</span>)        │       <span style=\"color: #00af00; text-decoration-color: #00af00\">198,144</span> │\n",
       "├─────────────────────────────────┼────────────────────────┼───────────────┤\n",
       "│ dropout_6 (<span style=\"color: #0087ff; text-decoration-color: #0087ff\">Dropout</span>)             │ (<span style=\"color: #00d7ff; text-decoration-color: #00d7ff\">None</span>, <span style=\"color: #00af00; text-decoration-color: #00af00\">30</span>, <span style=\"color: #00af00; text-decoration-color: #00af00\">256</span>)        │             <span style=\"color: #00af00; text-decoration-color: #00af00\">0</span> │\n",
       "├─────────────────────────────────┼────────────────────────┼───────────────┤\n",
       "│ gru_7 (<span style=\"color: #0087ff; text-decoration-color: #0087ff\">GRU</span>)                     │ (<span style=\"color: #00d7ff; text-decoration-color: #00d7ff\">None</span>, <span style=\"color: #00af00; text-decoration-color: #00af00\">288</span>)            │       <span style=\"color: #00af00; text-decoration-color: #00af00\">471,744</span> │\n",
       "├─────────────────────────────────┼────────────────────────┼───────────────┤\n",
       "│ dropout_7 (<span style=\"color: #0087ff; text-decoration-color: #0087ff\">Dropout</span>)             │ (<span style=\"color: #00d7ff; text-decoration-color: #00d7ff\">None</span>, <span style=\"color: #00af00; text-decoration-color: #00af00\">288</span>)            │             <span style=\"color: #00af00; text-decoration-color: #00af00\">0</span> │\n",
       "├─────────────────────────────────┼────────────────────────┼───────────────┤\n",
       "│ dense_1 (<span style=\"color: #0087ff; text-decoration-color: #0087ff\">Dense</span>)                 │ (<span style=\"color: #00d7ff; text-decoration-color: #00d7ff\">None</span>, <span style=\"color: #00af00; text-decoration-color: #00af00\">1</span>)              │           <span style=\"color: #00af00; text-decoration-color: #00af00\">289</span> │\n",
       "└─────────────────────────────────┴────────────────────────┴───────────────┘\n",
       "</pre>\n"
      ],
      "text/plain": [
       "┏━━━━━━━━━━━━━━━━━━━━━━━━━━━━━━━━━┳━━━━━━━━━━━━━━━━━━━━━━━━┳━━━━━━━━━━━━━━━┓\n",
       "┃\u001b[1m \u001b[0m\u001b[1mLayer (type)                   \u001b[0m\u001b[1m \u001b[0m┃\u001b[1m \u001b[0m\u001b[1mOutput Shape          \u001b[0m\u001b[1m \u001b[0m┃\u001b[1m \u001b[0m\u001b[1m      Param #\u001b[0m\u001b[1m \u001b[0m┃\n",
       "┡━━━━━━━━━━━━━━━━━━━━━━━━━━━━━━━━━╇━━━━━━━━━━━━━━━━━━━━━━━━╇━━━━━━━━━━━━━━━┩\n",
       "│ gru_4 (\u001b[38;5;33mGRU\u001b[0m)                     │ (\u001b[38;5;45mNone\u001b[0m, \u001b[38;5;34m30\u001b[0m, \u001b[38;5;34m416\u001b[0m)        │       \u001b[38;5;34m597,792\u001b[0m │\n",
       "├─────────────────────────────────┼────────────────────────┼───────────────┤\n",
       "│ dropout_4 (\u001b[38;5;33mDropout\u001b[0m)             │ (\u001b[38;5;45mNone\u001b[0m, \u001b[38;5;34m30\u001b[0m, \u001b[38;5;34m416\u001b[0m)        │             \u001b[38;5;34m0\u001b[0m │\n",
       "├─────────────────────────────────┼────────────────────────┼───────────────┤\n",
       "│ bidirectional_2 (\u001b[38;5;33mBidirectional\u001b[0m) │ (\u001b[38;5;45mNone\u001b[0m, \u001b[38;5;34m30\u001b[0m, \u001b[38;5;34m128\u001b[0m)        │       \u001b[38;5;34m185,088\u001b[0m │\n",
       "├─────────────────────────────────┼────────────────────────┼───────────────┤\n",
       "│ dropout_5 (\u001b[38;5;33mDropout\u001b[0m)             │ (\u001b[38;5;45mNone\u001b[0m, \u001b[38;5;34m30\u001b[0m, \u001b[38;5;34m128\u001b[0m)        │             \u001b[38;5;34m0\u001b[0m │\n",
       "├─────────────────────────────────┼────────────────────────┼───────────────┤\n",
       "│ bidirectional_3 (\u001b[38;5;33mBidirectional\u001b[0m) │ (\u001b[38;5;45mNone\u001b[0m, \u001b[38;5;34m30\u001b[0m, \u001b[38;5;34m256\u001b[0m)        │       \u001b[38;5;34m198,144\u001b[0m │\n",
       "├─────────────────────────────────┼────────────────────────┼───────────────┤\n",
       "│ dropout_6 (\u001b[38;5;33mDropout\u001b[0m)             │ (\u001b[38;5;45mNone\u001b[0m, \u001b[38;5;34m30\u001b[0m, \u001b[38;5;34m256\u001b[0m)        │             \u001b[38;5;34m0\u001b[0m │\n",
       "├─────────────────────────────────┼────────────────────────┼───────────────┤\n",
       "│ gru_7 (\u001b[38;5;33mGRU\u001b[0m)                     │ (\u001b[38;5;45mNone\u001b[0m, \u001b[38;5;34m288\u001b[0m)            │       \u001b[38;5;34m471,744\u001b[0m │\n",
       "├─────────────────────────────────┼────────────────────────┼───────────────┤\n",
       "│ dropout_7 (\u001b[38;5;33mDropout\u001b[0m)             │ (\u001b[38;5;45mNone\u001b[0m, \u001b[38;5;34m288\u001b[0m)            │             \u001b[38;5;34m0\u001b[0m │\n",
       "├─────────────────────────────────┼────────────────────────┼───────────────┤\n",
       "│ dense_1 (\u001b[38;5;33mDense\u001b[0m)                 │ (\u001b[38;5;45mNone\u001b[0m, \u001b[38;5;34m1\u001b[0m)              │           \u001b[38;5;34m289\u001b[0m │\n",
       "└─────────────────────────────────┴────────────────────────┴───────────────┘\n"
      ]
     },
     "metadata": {},
     "output_type": "display_data"
    },
    {
     "data": {
      "text/html": [
       "<pre style=\"white-space:pre;overflow-x:auto;line-height:normal;font-family:Menlo,'DejaVu Sans Mono',consolas,'Courier New',monospace\"><span style=\"font-weight: bold\"> Total params: </span><span style=\"color: #00af00; text-decoration-color: #00af00\">4,359,173</span> (16.63 MB)\n",
       "</pre>\n"
      ],
      "text/plain": [
       "\u001b[1m Total params: \u001b[0m\u001b[38;5;34m4,359,173\u001b[0m (16.63 MB)\n"
      ]
     },
     "metadata": {},
     "output_type": "display_data"
    },
    {
     "data": {
      "text/html": [
       "<pre style=\"white-space:pre;overflow-x:auto;line-height:normal;font-family:Menlo,'DejaVu Sans Mono',consolas,'Courier New',monospace\"><span style=\"font-weight: bold\"> Trainable params: </span><span style=\"color: #00af00; text-decoration-color: #00af00\">1,453,057</span> (5.54 MB)\n",
       "</pre>\n"
      ],
      "text/plain": [
       "\u001b[1m Trainable params: \u001b[0m\u001b[38;5;34m1,453,057\u001b[0m (5.54 MB)\n"
      ]
     },
     "metadata": {},
     "output_type": "display_data"
    },
    {
     "data": {
      "text/html": [
       "<pre style=\"white-space:pre;overflow-x:auto;line-height:normal;font-family:Menlo,'DejaVu Sans Mono',consolas,'Courier New',monospace\"><span style=\"font-weight: bold\"> Non-trainable params: </span><span style=\"color: #00af00; text-decoration-color: #00af00\">0</span> (0.00 B)\n",
       "</pre>\n"
      ],
      "text/plain": [
       "\u001b[1m Non-trainable params: \u001b[0m\u001b[38;5;34m0\u001b[0m (0.00 B)\n"
      ]
     },
     "metadata": {},
     "output_type": "display_data"
    },
    {
     "data": {
      "text/html": [
       "<pre style=\"white-space:pre;overflow-x:auto;line-height:normal;font-family:Menlo,'DejaVu Sans Mono',consolas,'Courier New',monospace\"><span style=\"font-weight: bold\"> Optimizer params: </span><span style=\"color: #00af00; text-decoration-color: #00af00\">2,906,116</span> (11.09 MB)\n",
       "</pre>\n"
      ],
      "text/plain": [
       "\u001b[1m Optimizer params: \u001b[0m\u001b[38;5;34m2,906,116\u001b[0m (11.09 MB)\n"
      ]
     },
     "metadata": {},
     "output_type": "display_data"
    }
   ],
   "source": [
    "# Load the best model from the saved file\n",
    "#best_model = tf.keras.models.load_model('best_model.keras')\n",
    "best_model = tf.keras.models.load_model('model/best_model.keras')\n",
    "print(\"Successfully loaded the best model from 'best_model.keras'.\")\n",
    "\n",
    "# Print the model summary to verify it loaded correctly\n",
    "best_model.summary()"
   ]
  },
  {
   "cell_type": "markdown",
   "id": "4435850a",
   "metadata": {},
   "source": [
    "### 3.2 Making Predictions on Test Data\n",
    "\n",
    "With the best-trained model loaded, we now generate RUL predictions for the `X_test` dataset. These predictions are initially in a scaled format (0-1) because the model was trained on scaled RUL values. It is critical to `inverse_transform` these predictions back to their original scale (number of cycles) using the `rul_scaler` that was saved from the preprocessing stage. This makes the predictions interpretable in real-world terms.\n",
    "\n",
    "The `Sample Real-Values predictions` output shows the first 10 predicted RUL values for the test engines. These values are now in their original cycle count format, ready to be compared against the true RUL values."
   ]
  },
  {
   "cell_type": "code",
   "execution_count": 7,
   "id": "04229668",
   "metadata": {},
   "outputs": [
    {
     "name": "stdout",
     "output_type": "stream",
     "text": [
      "\u001b[1m4/4\u001b[0m \u001b[32m━━━━━━━━━━━━━━━━━━━━\u001b[0m\u001b[37m\u001b[0m \u001b[1m3s\u001b[0m 493ms/step\n",
      "Sample Real-Values predictions: [[162.93463]\n",
      " [143.89622]\n",
      " [ 81.30794]\n",
      " [106.28058]\n",
      " [119.76052]\n",
      " [125.42712]\n",
      " [109.77098]\n",
      " [ 98.18182]\n",
      " [138.49316]\n",
      " [ 80.81026]]\n"
     ]
    }
   ],
   "source": [
    "# Make predictions on the test data\n",
    "# The output will be a NumPy array of RUL predictions\n",
    "y_pred = best_model.predict(X_test)\n",
    "\n",
    "# Reverting the scaled predictions to real values\n",
    "y_pred = rul_scaler.inverse_transform(y_pred)\n",
    "\n",
    "# Checking the transformation\n",
    "print(\"Sample Real-Values predictions:\", y_pred[:10])"
   ]
  },
  {
   "cell_type": "markdown",
   "id": "1df35adf",
   "metadata": {},
   "source": [
    "### 3.3 Loading True RUL Values\n",
    "\n",
    "To evaluate the model's performance, we need the actual, true RUL values for each engine in the test set. These values are provided in a separate file (`RUL_FD001.txt`). We load this data into a pandas DataFrame, clean it by dropping unnecessary columns, and convert it to a NumPy array (`y_true`) to match the format of our predictions.\n",
    "\n",
    "The output `print(y_true[:10])` displays the first 10 true RUL values for the test engines, which can be directly compared with the sample predictions from the previous step."
   ]
  },
  {
   "cell_type": "code",
   "execution_count": 8,
   "id": "d858fc9c",
   "metadata": {},
   "outputs": [
    {
     "name": "stdout",
     "output_type": "stream",
     "text": [
      "[[112]\n",
      " [ 98]\n",
      " [ 69]\n",
      " [ 82]\n",
      " [ 91]\n",
      " [ 93]\n",
      " [ 91]\n",
      " [ 95]\n",
      " [111]\n",
      " [ 96]]\n"
     ]
    }
   ],
   "source": [
    "import pandas as pd\n",
    "# Load the true RUL for the test engines\n",
    "rul_df = pd.read_csv('test_rul/RUL_FD001.txt', sep=' ', header=None)\n",
    "rul_df.drop(columns=[1], inplace=True) # Drop the extra column that pandas creates\n",
    "rul_df.columns = ['RUL'] # Rename the column\n",
    "\n",
    "# Converting to array for evaluation metrics\n",
    "y_true = rul_df.to_numpy()\n",
    "print(y_true[:10])"
   ]
  },
  {
   "cell_type": "markdown",
   "id": "6dcc9f14",
   "metadata": {},
   "source": [
    "### 3.4 Quantitative Evaluation of Predictions\n",
    "\n",
    "We use a custom function `evaluate_predictions` (presumably from `custom_functions.py`) to calculate and display key regression metrics. This function typically computes metrics like Mean Absolute Error (MAE), Root Mean Squared Error (RMSE), and the RUL score (a specific metric for this competition). These metrics provide a quantitative assessment of the model's accuracy.\n",
    "\n",
    "*Detailed explanation of metrics will be included here once the output of `evaluate_predictions` is available, for example:*\n",
    "* **MAE**: Indicates the average absolute difference between predicted and true RUL.\n",
    "* **RMSE**: Penalizes larger errors more heavily, useful for understanding the impact of significant deviations.\n",
    "* **RUL Score**: A custom metric that gives asymmetric penalties for early vs. late predictions (higher penalty for late predictions), reflecting the real-world cost of maintenance."
   ]
  },
  {
   "cell_type": "code",
   "execution_count": 9,
   "id": "ab4fcb23",
   "metadata": {},
   "outputs": [
    {
     "name": "stdout",
     "output_type": "stream",
     "text": [
      "Mean Absolute Error (MAE) on Test Set: 25.92 cycles\n",
      "Root Mean Squared Error (RMSE) on Test Set: 29.44 cycles\n",
      "PHM 2008 Challenge Score: 336.28\n"
     ]
    }
   ],
   "source": [
    "evaluate_predictions(y_true[0:10],y_pred[0:10])"
   ]
  },
  {
   "cell_type": "markdown",
   "id": "e42cf17e",
   "metadata": {},
   "source": [
    "### 3.5 Visualizing Model Performance: True vs. Predicted RUL\n",
    "\n",
    "A scatter plot comparing the `True RUL` values against `Predicted RUL` values provides a visual assessment of the model's performance.\n",
    "\n",
    "* Each point on the plot represents an engine from the test set.\n",
    "* The **red dashed line (y=x)** represents a perfect prediction scenario where predicted RUL exactly matches true RUL.\n",
    "* Points closer to this line indicate higher accuracy. Deviations from the line reveal the model's error distribution.\n",
    "\n",
    "This visualization helps to identify if the model consistently under- or over-predicts, or if errors are distributed randomly around the true values. It is a powerful tool for understanding the overall trend and outliers in predictions."
   ]
  },
  {
   "cell_type": "code",
   "execution_count": 10,
   "id": "37070112",
   "metadata": {},
   "outputs": [
    {
     "data": {
      "text/plain": [
       "<matplotlib.legend.Legend at 0x7c91e41d35c0>"
      ]
     },
     "execution_count": 10,
     "metadata": {},
     "output_type": "execute_result"
    },
    {
     "data": {
      "image/png": "[encoded data removed]",
      "text/plain": [
       "<Figure size 700x600 with 1 Axes>"
      ]
     },
     "metadata": {},
     "output_type": "display_data"
    }
   ],
   "source": [
    "# Create the plot\n",
    "plt.figure(figsize=(7, 6)) # Adjust figure size for better aspect ratio\n",
    "plt.scatter(y_true[0:10], y_pred[0:10], alpha=0.6, s=20) # Use scatter plot, set transparency and marker size\n",
    "\n",
    "# Determine the min and max values across both true and predicted to set the line extent\n",
    "min_val = min(y_true[0:10].min(), y_pred[0:10].min())\n",
    "max_val = max(y_true[0:10].max(), y_pred[0:10].max())\n",
    "plt.plot([min_val, max_val], [min_val, max_val], color='red', linestyle='--', label='Perfect Prediction (y=x)')\n",
    "\n",
    "# Add labels and title\n",
    "plt.xlabel(\"True RUL\")\n",
    "plt.ylabel(\"Predicted RUL\")\n",
    "plt.title(\"Model Performance: True vs. Predicted RUL\")\n",
    "plt.grid(True, linestyle='--', alpha=0.7) # Add a grid for better readability\n",
    "plt.legend() # Show the legend for the perfect prediction line"
   ]
  },
  {
   "cell_type": "markdown",
   "id": "fbc62f5a",
   "metadata": {},
   "source": [
    "## 4. Conclusion\n",
    "\n",
    "This notebook successfully demonstrated the training and evaluation of an LSTM model for Remaining Useful Life (RUL) prediction of turbofan engines.\n",
    "\n",
    "**Key Achievements:**\n",
    "* An LSTM neural network was effectively designed and compiled for time-series RUL prediction.\n",
    "* The model was trained using appropriate callbacks (`EarlyStopping`, `ModelCheckpoint`) to ensure optimal performance and prevent overfitting.\n",
    "* Predictions were generated on an unseen test set and inverse-transformed to real RUL values.\n",
    "* The model's performance was quantitatively assessed using standard regression metrics and visually evaluated through a True vs. Predicted RUL plot.\n",
    "\n",
    "**Future Work and Improvements:**\n",
    "* **Hyperparameter Tuning**: Systematically optimize LSTM units, dropout rates, learning rate, and batch size using techniques like Grid Search or Random Search.\n",
    "* **Alternative Architectures**: Explore more complex recurrent neural networks (e.g., Bidirectional LSTMs, GRUs) or attention mechanisms.\n",
    "* **Ensemble Modeling**: Combine predictions from multiple models to potentially improve robustness and accuracy.\n",
    "* **Feature Importance**: Analyze which features contribute most to the RUL prediction to potentially refine the input set.\n",
    "* **More Data**: Incorporate additional C-MAPSS datasets (FD002, FD003, FD004) into the training process for a more generalized model.\n",
    "* **Uncertainty Quantification**: Investigate methods to quantify the uncertainty of RUL predictions, providing confidence intervals.\n",
    "\n",
    "By following these steps, your `Model_train_eval.ipynb` will clearly articulate your modeling process, showcase your results, and highlight your understanding of deep learning for predictive maintenance, making it an excellent addition to your portfolio."
   ]
  }
 ],
 "metadata": {
  "kernelspec": {
   "display_name": "rapids_python3.12",
   "language": "python",
   "name": "python3"
  },
  "language_info": {
   "codemirror_mode": {
    "name": "ipython",
    "version": 3
   },
   "file_extension": ".py",
   "mimetype": "text/x-python",
   "name": "python",
   "nbconvert_exporter": "python",
   "pygments_lexer": "ipython3",
   "version": "3.12.3"
  }
 },
 "nbformat": 4,
 "nbformat_minor": 5
}
